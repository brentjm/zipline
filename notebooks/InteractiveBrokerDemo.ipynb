{
 "cells": [
  {
   "cell_type": "markdown",
   "metadata": {},
   "source": [
    "## IB API demo\n",
    "last modified: 12-28-2018"
   ]
  },
  {
   "cell_type": "code",
   "execution_count": 1,
   "metadata": {},
   "outputs": [],
   "source": [
    "import pandas as pd\n",
    "from matplotlib import pyplot as plt\n",
    "from datetime import datetime, timedelta\n",
    "\n",
    "import sys, os\n",
    "sys.path.append(os.path.join(os.path.dirname('.'), '..', 'lib'))\n",
    "from interactivebrokers import ib_api"
   ]
  },
  {
   "cell_type": "code",
   "execution_count": 2,
   "metadata": {},
   "outputs": [
    {
     "name": "stdout",
     "output_type": "stream",
     "text": [
      "serverVersion:142 connectionTime:b'20190113 16:12:20 EST'\n"
     ]
    },
    {
     "name": "stderr",
     "output_type": "stream",
     "text": [
      "ERROR:root:ERROR -1 2104 Market data farm connection is OK:usfarm.nj\n",
      "ERROR:root:ERROR -1 2104 Market data farm connection is OK:usfuture\n",
      "ERROR:root:ERROR -1 2104 Market data farm connection is OK:cashfarm\n",
      "ERROR:root:ERROR -1 2104 Market data farm connection is OK:usfarm\n",
      "ERROR:root:ERROR -1 2106 HMDS data farm connection is OK:njhmds\n"
     ]
    }
   ],
   "source": [
    "# After execution, TWS will prompt you to accept the connection\n",
    "# The ERROR simply confirms that there is a connection to the market data.\n",
    "app = ib_api.main(port=7496)"
   ]
  },
  {
   "cell_type": "markdown",
   "metadata": {},
   "source": [
    "### Get Data"
   ]
  },
  {
   "cell_type": "markdown",
   "metadata": {},
   "source": [
    "**quotes**"
   ]
  },
  {
   "cell_type": "code",
   "execution_count": 3,
   "metadata": {},
   "outputs": [
    {
     "data": {
      "text/plain": [
       "AAPL    152.35\n",
       "NVDA    148.62\n",
       "JPM      99.81\n",
       "dtype: float64"
      ]
     },
     "execution_count": 3,
     "metadata": {},
     "output_type": "execute_result"
    }
   ],
   "source": [
    "app.get_quotes([\"AAPL\", \"NVDA\", \"JPM\"])"
   ]
  },
  {
   "cell_type": "markdown",
   "metadata": {},
   "source": [
    "**price history**"
   ]
  },
  {
   "cell_type": "code",
   "execution_count": 4,
   "metadata": {},
   "outputs": [
    {
     "data": {
      "text/html": [
       "<div>\n",
       "<style scoped>\n",
       "    .dataframe tbody tr th:only-of-type {\n",
       "        vertical-align: middle;\n",
       "    }\n",
       "\n",
       "    .dataframe tbody tr th {\n",
       "        vertical-align: top;\n",
       "    }\n",
       "\n",
       "    .dataframe thead tr th {\n",
       "        text-align: left;\n",
       "    }\n",
       "</style>\n",
       "<table border=\"1\" class=\"dataframe\">\n",
       "  <thead>\n",
       "    <tr>\n",
       "      <th>symbol</th>\n",
       "      <th colspan=\"5\" halign=\"left\">AAPL</th>\n",
       "      <th colspan=\"5\" halign=\"left\">JPM</th>\n",
       "      <th colspan=\"5\" halign=\"left\">NVDA</th>\n",
       "    </tr>\n",
       "    <tr>\n",
       "      <th>price</th>\n",
       "      <th>close_price</th>\n",
       "      <th>high</th>\n",
       "      <th>low</th>\n",
       "      <th>open_price</th>\n",
       "      <th>volume</th>\n",
       "      <th>close_price</th>\n",
       "      <th>high</th>\n",
       "      <th>low</th>\n",
       "      <th>open_price</th>\n",
       "      <th>volume</th>\n",
       "      <th>close_price</th>\n",
       "      <th>high</th>\n",
       "      <th>low</th>\n",
       "      <th>open_price</th>\n",
       "      <th>volume</th>\n",
       "    </tr>\n",
       "  </thead>\n",
       "  <tbody>\n",
       "    <tr>\n",
       "      <th>20171101</th>\n",
       "      <td>166.72</td>\n",
       "      <td>170.19</td>\n",
       "      <td>165.61</td>\n",
       "      <td>169.50</td>\n",
       "      <td>302685.0</td>\n",
       "      <td>100.76</td>\n",
       "      <td>101.70</td>\n",
       "      <td>100.45</td>\n",
       "      <td>101.14</td>\n",
       "      <td>75295.0</td>\n",
       "      <td>206.20</td>\n",
       "      <td>209.98</td>\n",
       "      <td>204.60</td>\n",
       "      <td>208.02</td>\n",
       "      <td>110848.0</td>\n",
       "    </tr>\n",
       "    <tr>\n",
       "      <th>20171102</th>\n",
       "      <td>173.38</td>\n",
       "      <td>174.35</td>\n",
       "      <td>165.28</td>\n",
       "      <td>166.80</td>\n",
       "      <td>373832.0</td>\n",
       "      <td>101.67</td>\n",
       "      <td>101.77</td>\n",
       "      <td>100.16</td>\n",
       "      <td>101.44</td>\n",
       "      <td>79795.0</td>\n",
       "      <td>206.91</td>\n",
       "      <td>207.81</td>\n",
       "      <td>203.65</td>\n",
       "      <td>206.20</td>\n",
       "      <td>73014.0</td>\n",
       "    </tr>\n",
       "    <tr>\n",
       "      <th>20171103</th>\n",
       "      <td>172.40</td>\n",
       "      <td>175.95</td>\n",
       "      <td>171.12</td>\n",
       "      <td>173.55</td>\n",
       "      <td>540067.0</td>\n",
       "      <td>101.40</td>\n",
       "      <td>101.75</td>\n",
       "      <td>100.73</td>\n",
       "      <td>101.57</td>\n",
       "      <td>64173.0</td>\n",
       "      <td>208.50</td>\n",
       "      <td>208.90</td>\n",
       "      <td>205.34</td>\n",
       "      <td>207.50</td>\n",
       "      <td>77014.0</td>\n",
       "    </tr>\n",
       "    <tr>\n",
       "      <th>20171106</th>\n",
       "      <td>174.20</td>\n",
       "      <td>174.99</td>\n",
       "      <td>171.72</td>\n",
       "      <td>173.00</td>\n",
       "      <td>310622.0</td>\n",
       "      <td>101.00</td>\n",
       "      <td>101.69</td>\n",
       "      <td>100.63</td>\n",
       "      <td>100.63</td>\n",
       "      <td>74171.0</td>\n",
       "      <td>209.95</td>\n",
       "      <td>209.98</td>\n",
       "      <td>203.60</td>\n",
       "      <td>208.70</td>\n",
       "      <td>85447.0</td>\n",
       "    </tr>\n",
       "    <tr>\n",
       "      <th>20171107</th>\n",
       "      <td>174.40</td>\n",
       "      <td>175.25</td>\n",
       "      <td>173.60</td>\n",
       "      <td>174.20</td>\n",
       "      <td>216438.0</td>\n",
       "      <td>98.69</td>\n",
       "      <td>101.00</td>\n",
       "      <td>98.25</td>\n",
       "      <td>100.40</td>\n",
       "      <td>139676.0</td>\n",
       "      <td>211.57</td>\n",
       "      <td>212.90</td>\n",
       "      <td>209.51</td>\n",
       "      <td>210.49</td>\n",
       "      <td>92030.0</td>\n",
       "    </tr>\n",
       "    <tr>\n",
       "      <th>20171108</th>\n",
       "      <td>176.75</td>\n",
       "      <td>177.10</td>\n",
       "      <td>174.20</td>\n",
       "      <td>174.40</td>\n",
       "      <td>205710.0</td>\n",
       "      <td>97.65</td>\n",
       "      <td>98.73</td>\n",
       "      <td>97.15</td>\n",
       "      <td>98.57</td>\n",
       "      <td>130709.0</td>\n",
       "      <td>208.65</td>\n",
       "      <td>212.45</td>\n",
       "      <td>207.24</td>\n",
       "      <td>212.03</td>\n",
       "      <td>114811.0</td>\n",
       "    </tr>\n",
       "    <tr>\n",
       "      <th>20171109</th>\n",
       "      <td>176.00</td>\n",
       "      <td>176.69</td>\n",
       "      <td>173.14</td>\n",
       "      <td>176.30</td>\n",
       "      <td>252020.0</td>\n",
       "      <td>97.68</td>\n",
       "      <td>98.22</td>\n",
       "      <td>96.68</td>\n",
       "      <td>97.20</td>\n",
       "      <td>126119.0</td>\n",
       "      <td>211.90</td>\n",
       "      <td>211.90</td>\n",
       "      <td>200.37</td>\n",
       "      <td>208.70</td>\n",
       "      <td>210118.0</td>\n",
       "    </tr>\n",
       "    <tr>\n",
       "      <th>20171110</th>\n",
       "      <td>174.56</td>\n",
       "      <td>175.48</td>\n",
       "      <td>174.27</td>\n",
       "      <td>175.42</td>\n",
       "      <td>196949.0</td>\n",
       "      <td>97.58</td>\n",
       "      <td>98.34</td>\n",
       "      <td>97.50</td>\n",
       "      <td>97.69</td>\n",
       "      <td>85604.0</td>\n",
       "      <td>216.50</td>\n",
       "      <td>218.67</td>\n",
       "      <td>211.00</td>\n",
       "      <td>211.00</td>\n",
       "      <td>279888.0</td>\n",
       "    </tr>\n",
       "    <tr>\n",
       "      <th>20171113</th>\n",
       "      <td>173.82</td>\n",
       "      <td>175.00</td>\n",
       "      <td>173.40</td>\n",
       "      <td>174.70</td>\n",
       "      <td>148132.0</td>\n",
       "      <td>97.82</td>\n",
       "      <td>98.05</td>\n",
       "      <td>96.62</td>\n",
       "      <td>97.00</td>\n",
       "      <td>86379.0</td>\n",
       "      <td>213.19</td>\n",
       "      <td>217.85</td>\n",
       "      <td>212.01</td>\n",
       "      <td>217.50</td>\n",
       "      <td>126583.0</td>\n",
       "    </tr>\n",
       "    <tr>\n",
       "      <th>20171114</th>\n",
       "      <td>171.50</td>\n",
       "      <td>174.18</td>\n",
       "      <td>170.50</td>\n",
       "      <td>174.18</td>\n",
       "      <td>213611.0</td>\n",
       "      <td>97.09</td>\n",
       "      <td>97.78</td>\n",
       "      <td>96.85</td>\n",
       "      <td>97.51</td>\n",
       "      <td>93211.0</td>\n",
       "      <td>213.71</td>\n",
       "      <td>214.80</td>\n",
       "      <td>211.23</td>\n",
       "      <td>213.50</td>\n",
       "      <td>113632.0</td>\n",
       "    </tr>\n",
       "  </tbody>\n",
       "</table>\n",
       "</div>"
      ],
      "text/plain": [
       "symbol          AAPL                                              JPM          \\\n",
       "price    close_price    high     low open_price    volume close_price    high   \n",
       "20171101      166.72  170.19  165.61     169.50  302685.0      100.76  101.70   \n",
       "20171102      173.38  174.35  165.28     166.80  373832.0      101.67  101.77   \n",
       "20171103      172.40  175.95  171.12     173.55  540067.0      101.40  101.75   \n",
       "20171106      174.20  174.99  171.72     173.00  310622.0      101.00  101.69   \n",
       "20171107      174.40  175.25  173.60     174.20  216438.0       98.69  101.00   \n",
       "20171108      176.75  177.10  174.20     174.40  205710.0       97.65   98.73   \n",
       "20171109      176.00  176.69  173.14     176.30  252020.0       97.68   98.22   \n",
       "20171110      174.56  175.48  174.27     175.42  196949.0       97.58   98.34   \n",
       "20171113      173.82  175.00  173.40     174.70  148132.0       97.82   98.05   \n",
       "20171114      171.50  174.18  170.50     174.18  213611.0       97.09   97.78   \n",
       "\n",
       "symbol                                       NVDA                             \\\n",
       "price        low open_price    volume close_price    high     low open_price   \n",
       "20171101  100.45     101.14   75295.0      206.20  209.98  204.60     208.02   \n",
       "20171102  100.16     101.44   79795.0      206.91  207.81  203.65     206.20   \n",
       "20171103  100.73     101.57   64173.0      208.50  208.90  205.34     207.50   \n",
       "20171106  100.63     100.63   74171.0      209.95  209.98  203.60     208.70   \n",
       "20171107   98.25     100.40  139676.0      211.57  212.90  209.51     210.49   \n",
       "20171108   97.15      98.57  130709.0      208.65  212.45  207.24     212.03   \n",
       "20171109   96.68      97.20  126119.0      211.90  211.90  200.37     208.70   \n",
       "20171110   97.50      97.69   85604.0      216.50  218.67  211.00     211.00   \n",
       "20171113   96.62      97.00   86379.0      213.19  217.85  212.01     217.50   \n",
       "20171114   96.85      97.51   93211.0      213.71  214.80  211.23     213.50   \n",
       "\n",
       "symbol              \n",
       "price       volume  \n",
       "20171101  110848.0  \n",
       "20171102   73014.0  \n",
       "20171103   77014.0  \n",
       "20171106   85447.0  \n",
       "20171107   92030.0  \n",
       "20171108  114811.0  \n",
       "20171109  210118.0  \n",
       "20171110  279888.0  \n",
       "20171113  126583.0  \n",
       "20171114  113632.0  "
      ]
     },
     "execution_count": 4,
     "metadata": {},
     "output_type": "execute_result"
    }
   ],
   "source": [
    "end_date = datetime.today()\n",
    "start_date = end_date - timedelta(days=300)\n",
    "symbols = [\"AAPL\", \"NVDA\", \"JPM\"]\n",
    "bars = app.get_price_history(symbols=symbols, rth=False, start_date=start_date, end_date=end_date)\n",
    "bars.head(10)"
   ]
  },
  {
   "cell_type": "code",
   "execution_count": 5,
   "metadata": {},
   "outputs": [
    {
     "data": {
      "image/png": "[encoded data removed]",
      "text/plain": [
       "<Figure size 720x432 with 1 Axes>"
      ]
     },
     "metadata": {},
     "output_type": "display_data"
    }
   ],
   "source": [
    "ax = bars.loc[:, (slice(None), 'close_price')].plot(figsize=(10,6))"
   ]
  },
  {
   "cell_type": "code",
   "execution_count": 6,
   "metadata": {},
   "outputs": [
    {
     "data": {
      "image/png": "[encoded data removed]",
      "text/plain": [
       "<Figure size 1152x288 with 3 Axes>"
      ]
     },
     "metadata": {},
     "output_type": "display_data"
    }
   ],
   "source": [
    "fig, ax = plt.subplots(nrows=1, ncols=3, figsize=(16, 4))\n",
    "for i, sym in enumerate(bars.columns.get_level_values(0).unique()):\n",
    "    ax[i].hist(bars.loc[:, (sym, 'close_price')], bins=50)\n",
    "    ax[i].set_title(sym)"
   ]
  },
  {
   "cell_type": "markdown",
   "metadata": {},
   "source": [
    "#### Get Contracts"
   ]
  },
  {
   "cell_type": "code",
   "execution_count": 7,
   "metadata": {},
   "outputs": [
    {
     "data": {
      "text/plain": [
       "{'currency': 'USD',\n",
       " 'exchange': 'SMART',\n",
       " 'primaryExchange': 'ISLAND',\n",
       " 'secId': '',\n",
       " 'secIdType': '',\n",
       " 'secType': 'STK'}"
      ]
     },
     "execution_count": 7,
     "metadata": {},
     "output_type": "execute_result"
    }
   ],
   "source": [
    "app.get_contract_details(\"AAPL\")"
   ]
  },
  {
   "cell_type": "markdown",
   "metadata": {},
   "source": [
    "#### Make a saved order"
   ]
  },
  {
   "cell_type": "code",
   "execution_count": 8,
   "metadata": {},
   "outputs": [],
   "source": [
    "bracket_order = {\n",
    "    'symbol': \"AAPL\",\n",
    "    'instruction': \"BUY\",\n",
    "    'price': 150.,\n",
    "    'quantity': 100,\n",
    "    'outside_rth': False,\n",
    "    'tif': \"DAY\",\n",
    "    'profit_price': 160,\n",
    "    'stop_price': 145\n",
    "}\n",
    "app.create_bracket_orders(bracket_order)"
   ]
  },
  {
   "cell_type": "markdown",
   "metadata": {},
   "source": [
    "#### Place order"
   ]
  },
  {
   "cell_type": "code",
   "execution_count": 9,
   "metadata": {},
   "outputs": [
    {
     "name": "stderr",
     "output_type": "stream",
     "text": [
      "ERROR:root:ERROR -1 2108 Market data farm connection is inactive but should be available upon demand.usfarm.nj\n",
      "ERROR:root:ERROR -1 2108 Market data farm connection is inactive but should be available upon demand.usfarm.nj\n",
      "ERROR:root:ERROR -1 2108 Market data farm connection is inactive but should be available upon demand.cashfarm\n",
      "ERROR:root:ERROR -1 2108 Market data farm connection is inactive but should be available upon demand.cashfarm\n"
     ]
    }
   ],
   "source": [
    "app.place_all_orders()"
   ]
  }
 ],
 "metadata": {
  "kernelspec": {
   "display_name": "Python 3",
   "language": "python",
   "name": "python3"
  },
  "language_info": {
   "codemirror_mode": {
    "name": "ipython",
    "version": 3
   },
   "file_extension": ".py",
   "mimetype": "text/x-python",
   "name": "python",
   "nbconvert_exporter": "python",
   "pygments_lexer": "ipython3",
   "version": "3.5.5"
  }
 },
 "nbformat": 4,
 "nbformat_minor": 2
}
