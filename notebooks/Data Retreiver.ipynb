{
 "cells": [
  {
   "cell_type": "markdown",
   "metadata": {},
   "source": [
    "## Retrieve data from brokerages and save to files.\n",
    "last modified: 1/12/2018"
   ]
  },
  {
   "cell_type": "code",
   "execution_count": 5,
   "metadata": {},
   "outputs": [
    {
     "name": "stdout",
     "output_type": "stream",
     "text": [
      "The autoreload extension is already loaded. To reload it, use:\n",
      "  %reload_ext autoreload\n"
     ]
    }
   ],
   "source": [
    "%load_ext autoreload\n",
    "%autoreload 1\n",
    "%matplotlib inline"
   ]
  },
  {
   "cell_type": "code",
   "execution_count": 12,
   "metadata": {},
   "outputs": [],
   "source": [
    "import pandas as pd\n",
    "import numpy as np\n",
    "import json\n",
    "from matplotlib import pyplot as plt\n",
    "from datetime import datetime, timedelta\n",
    "from time import sleep"
   ]
  },
  {
   "cell_type": "code",
   "execution_count": 7,
   "metadata": {},
   "outputs": [],
   "source": [
    "import sys, os\n",
    "sys.path.append(os.path.join(os.path.dirname('.'), '..', 'lib'))\n",
    "\n",
    "from tdameritrade import tdameritrade_api\n",
    "from interactivebrokers import ib_api as IB_API\n",
    "from strategies import orders"
   ]
  },
  {
   "cell_type": "code",
   "execution_count": 9,
   "metadata": {},
   "outputs": [
    {
     "name": "stdout",
     "output_type": "stream",
     "text": [
      "serverVersion:142 connectionTime:b'20190828 20:53:29 EST'\n"
     ]
    },
    {
     "name": "stderr",
     "output_type": "stream",
     "text": [
      "ERROR -1 2104 Market data farm connection is OK:usfuture\n",
      "ERROR -1 2104 Market data farm connection is OK:usfarm\n",
      "ERROR -1 2106 HMDS data farm connection is OK:euhmds\n",
      "ERROR -1 2106 HMDS data farm connection is OK:fundfarm\n",
      "ERROR -1 2106 HMDS data farm connection is OK:ushmds\n"
     ]
    },
    {
     "name": "stdout",
     "output_type": "stream",
     "text": [
      "-1\n",
      "-1\n",
      "-1\n",
      "-1\n",
      "-1\n"
     ]
    }
   ],
   "source": [
    "ib_api = IB_API.main(host=\"192.168.1.2\", port=7496)"
   ]
  },
  {
   "cell_type": "code",
   "execution_count": 10,
   "metadata": {},
   "outputs": [
    {
     "ename": "HTTPError",
     "evalue": "HTTP Error 400: Bad Request",
     "output_type": "error",
     "traceback": [
      "\u001b[0;31m---------------------------------------------------------------------------\u001b[0m",
      "\u001b[0;31mHTTPError\u001b[0m                                 Traceback (most recent call last)",
      "\u001b[0;32m<ipython-input-10-484306d5098b>\u001b[0m in \u001b[0;36m<module>\u001b[0;34m\u001b[0m\n\u001b[0;32m----> 1\u001b[0;31m \u001b[0mtd_api\u001b[0m \u001b[0;34m=\u001b[0m \u001b[0mtdameritrade_api\u001b[0m\u001b[0;34m.\u001b[0m\u001b[0mTDAmeritradeAPI\u001b[0m\u001b[0;34m.\u001b[0m\u001b[0mcreate_api_from_account_file\u001b[0m\u001b[0;34m(\u001b[0m\u001b[0mfilename\u001b[0m\u001b[0;34m=\u001b[0m\u001b[0;34m\"../private_data/information.json\"\u001b[0m\u001b[0;34m)\u001b[0m\u001b[0;34m\u001b[0m\u001b[0m\n\u001b[0m",
      "\u001b[0;32m~/.jupyter/lib/tdameritrade/tdameritrade_api.py\u001b[0m in \u001b[0;36mcreate_api_from_account_file\u001b[0;34m(cls, filename)\u001b[0m\n\u001b[1;32m    130\u001b[0m             \u001b[0mclient_id\u001b[0m\u001b[0;34m=\u001b[0m\u001b[0minformation\u001b[0m\u001b[0;34m[\u001b[0m\u001b[0;34m\"client_id\"\u001b[0m\u001b[0;34m]\u001b[0m\u001b[0;34m,\u001b[0m\u001b[0;34m\u001b[0m\u001b[0m\n\u001b[1;32m    131\u001b[0m             \u001b[0mcallback_url\u001b[0m\u001b[0;34m=\u001b[0m\u001b[0minformation\u001b[0m\u001b[0;34m[\u001b[0m\u001b[0;34m\"callback_url\"\u001b[0m\u001b[0;34m]\u001b[0m\u001b[0;34m,\u001b[0m\u001b[0;34m\u001b[0m\u001b[0m\n\u001b[0;32m--> 132\u001b[0;31m             \u001b[0mrefresh_token\u001b[0m\u001b[0;34m=\u001b[0m\u001b[0minformation\u001b[0m\u001b[0;34m[\u001b[0m\u001b[0;34m\"refresh_token\"\u001b[0m\u001b[0;34m]\u001b[0m\u001b[0;34m\u001b[0m\u001b[0m\n\u001b[0m\u001b[1;32m    133\u001b[0m         )\n\u001b[1;32m    134\u001b[0m \u001b[0;34m\u001b[0m\u001b[0m\n",
      "\u001b[0;32m~/.jupyter/lib/tdameritrade/tdameritrade_api.py\u001b[0m in \u001b[0;36mget_access_token\u001b[0;34m(client_id, callback_url, refresh_token)\u001b[0m\n\u001b[1;32m    112\u001b[0m             \u001b[0mresponse\u001b[0m \u001b[0;34m=\u001b[0m \u001b[0murllib\u001b[0m\u001b[0;34m.\u001b[0m\u001b[0mrequest\u001b[0m\u001b[0;34m.\u001b[0m\u001b[0murlopen\u001b[0m\u001b[0;34m(\u001b[0m\u001b[0mrequest\u001b[0m\u001b[0;34m,\u001b[0m \u001b[0mdata\u001b[0m\u001b[0;34m=\u001b[0m\u001b[0mdata\u001b[0m\u001b[0;34m)\u001b[0m\u001b[0;34m\u001b[0m\u001b[0m\n\u001b[1;32m    113\u001b[0m         \u001b[0;32mexcept\u001b[0m \u001b[0mHTTPError\u001b[0m \u001b[0;32mas\u001b[0m \u001b[0mhttp_error\u001b[0m\u001b[0;34m:\u001b[0m\u001b[0;34m\u001b[0m\u001b[0m\n\u001b[0;32m--> 114\u001b[0;31m             \u001b[0;32mraise\u001b[0m \u001b[0mhttp_error\u001b[0m\u001b[0;34m\u001b[0m\u001b[0m\n\u001b[0m\u001b[1;32m    115\u001b[0m \u001b[0;34m\u001b[0m\u001b[0m\n\u001b[1;32m    116\u001b[0m         \u001b[0;32mreturn\u001b[0m \u001b[0mjson\u001b[0m\u001b[0;34m.\u001b[0m\u001b[0mloads\u001b[0m\u001b[0;34m(\u001b[0m\u001b[0mresponse\u001b[0m\u001b[0;34m.\u001b[0m\u001b[0mread\u001b[0m\u001b[0;34m(\u001b[0m\u001b[0;34m)\u001b[0m\u001b[0;34m.\u001b[0m\u001b[0mdecode\u001b[0m\u001b[0;34m(\u001b[0m\u001b[0;34m)\u001b[0m\u001b[0;34m)\u001b[0m\u001b[0;34m[\u001b[0m\u001b[0;34m\"access_token\"\u001b[0m\u001b[0;34m]\u001b[0m\u001b[0;34m\u001b[0m\u001b[0m\n",
      "\u001b[0;32m~/.jupyter/lib/tdameritrade/tdameritrade_api.py\u001b[0m in \u001b[0;36mget_access_token\u001b[0;34m(client_id, callback_url, refresh_token)\u001b[0m\n\u001b[1;32m    110\u001b[0m         \u001b[0mrequest\u001b[0m\u001b[0;34m.\u001b[0m\u001b[0madd_header\u001b[0m\u001b[0;34m(\u001b[0m\u001b[0mkey\u001b[0m\u001b[0;34m=\u001b[0m\u001b[0;34m\"Content-Length\"\u001b[0m\u001b[0;34m,\u001b[0m \u001b[0mval\u001b[0m\u001b[0;34m=\u001b[0m\u001b[0mlen\u001b[0m\u001b[0;34m(\u001b[0m\u001b[0mdata\u001b[0m\u001b[0;34m)\u001b[0m\u001b[0;34m)\u001b[0m\u001b[0;34m\u001b[0m\u001b[0m\n\u001b[1;32m    111\u001b[0m         \u001b[0;32mtry\u001b[0m\u001b[0;34m:\u001b[0m\u001b[0;34m\u001b[0m\u001b[0m\n\u001b[0;32m--> 112\u001b[0;31m             \u001b[0mresponse\u001b[0m \u001b[0;34m=\u001b[0m \u001b[0murllib\u001b[0m\u001b[0;34m.\u001b[0m\u001b[0mrequest\u001b[0m\u001b[0;34m.\u001b[0m\u001b[0murlopen\u001b[0m\u001b[0;34m(\u001b[0m\u001b[0mrequest\u001b[0m\u001b[0;34m,\u001b[0m \u001b[0mdata\u001b[0m\u001b[0;34m=\u001b[0m\u001b[0mdata\u001b[0m\u001b[0;34m)\u001b[0m\u001b[0;34m\u001b[0m\u001b[0m\n\u001b[0m\u001b[1;32m    113\u001b[0m         \u001b[0;32mexcept\u001b[0m \u001b[0mHTTPError\u001b[0m \u001b[0;32mas\u001b[0m \u001b[0mhttp_error\u001b[0m\u001b[0;34m:\u001b[0m\u001b[0;34m\u001b[0m\u001b[0m\n\u001b[1;32m    114\u001b[0m             \u001b[0;32mraise\u001b[0m \u001b[0mhttp_error\u001b[0m\u001b[0;34m\u001b[0m\u001b[0m\n",
      "\u001b[0;32m/usr/local/lib/python3.5/urllib/request.py\u001b[0m in \u001b[0;36murlopen\u001b[0;34m(url, data, timeout, cafile, capath, cadefault, context)\u001b[0m\n\u001b[1;32m    161\u001b[0m     \u001b[0;32melse\u001b[0m\u001b[0;34m:\u001b[0m\u001b[0;34m\u001b[0m\u001b[0m\n\u001b[1;32m    162\u001b[0m         \u001b[0mopener\u001b[0m \u001b[0;34m=\u001b[0m \u001b[0m_opener\u001b[0m\u001b[0;34m\u001b[0m\u001b[0m\n\u001b[0;32m--> 163\u001b[0;31m     \u001b[0;32mreturn\u001b[0m \u001b[0mopener\u001b[0m\u001b[0;34m.\u001b[0m\u001b[0mopen\u001b[0m\u001b[0;34m(\u001b[0m\u001b[0murl\u001b[0m\u001b[0;34m,\u001b[0m \u001b[0mdata\u001b[0m\u001b[0;34m,\u001b[0m \u001b[0mtimeout\u001b[0m\u001b[0;34m)\u001b[0m\u001b[0;34m\u001b[0m\u001b[0m\n\u001b[0m\u001b[1;32m    164\u001b[0m \u001b[0;34m\u001b[0m\u001b[0m\n\u001b[1;32m    165\u001b[0m \u001b[0;32mdef\u001b[0m \u001b[0minstall_opener\u001b[0m\u001b[0;34m(\u001b[0m\u001b[0mopener\u001b[0m\u001b[0;34m)\u001b[0m\u001b[0;34m:\u001b[0m\u001b[0;34m\u001b[0m\u001b[0m\n",
      "\u001b[0;32m/usr/local/lib/python3.5/urllib/request.py\u001b[0m in \u001b[0;36mopen\u001b[0;34m(self, fullurl, data, timeout)\u001b[0m\n\u001b[1;32m    470\u001b[0m         \u001b[0;32mfor\u001b[0m \u001b[0mprocessor\u001b[0m \u001b[0;32min\u001b[0m \u001b[0mself\u001b[0m\u001b[0;34m.\u001b[0m\u001b[0mprocess_response\u001b[0m\u001b[0;34m.\u001b[0m\u001b[0mget\u001b[0m\u001b[0;34m(\u001b[0m\u001b[0mprotocol\u001b[0m\u001b[0;34m,\u001b[0m \u001b[0;34m[\u001b[0m\u001b[0;34m]\u001b[0m\u001b[0;34m)\u001b[0m\u001b[0;34m:\u001b[0m\u001b[0;34m\u001b[0m\u001b[0m\n\u001b[1;32m    471\u001b[0m             \u001b[0mmeth\u001b[0m \u001b[0;34m=\u001b[0m \u001b[0mgetattr\u001b[0m\u001b[0;34m(\u001b[0m\u001b[0mprocessor\u001b[0m\u001b[0;34m,\u001b[0m \u001b[0mmeth_name\u001b[0m\u001b[0;34m)\u001b[0m\u001b[0;34m\u001b[0m\u001b[0m\n\u001b[0;32m--> 472\u001b[0;31m             \u001b[0mresponse\u001b[0m \u001b[0;34m=\u001b[0m \u001b[0mmeth\u001b[0m\u001b[0;34m(\u001b[0m\u001b[0mreq\u001b[0m\u001b[0;34m,\u001b[0m \u001b[0mresponse\u001b[0m\u001b[0;34m)\u001b[0m\u001b[0;34m\u001b[0m\u001b[0m\n\u001b[0m\u001b[1;32m    473\u001b[0m \u001b[0;34m\u001b[0m\u001b[0m\n\u001b[1;32m    474\u001b[0m         \u001b[0;32mreturn\u001b[0m \u001b[0mresponse\u001b[0m\u001b[0;34m\u001b[0m\u001b[0m\n",
      "\u001b[0;32m/usr/local/lib/python3.5/urllib/request.py\u001b[0m in \u001b[0;36mhttp_response\u001b[0;34m(self, request, response)\u001b[0m\n\u001b[1;32m    580\u001b[0m         \u001b[0;32mif\u001b[0m \u001b[0;32mnot\u001b[0m \u001b[0;34m(\u001b[0m\u001b[0;36m200\u001b[0m \u001b[0;34m<=\u001b[0m \u001b[0mcode\u001b[0m \u001b[0;34m<\u001b[0m \u001b[0;36m300\u001b[0m\u001b[0;34m)\u001b[0m\u001b[0;34m:\u001b[0m\u001b[0;34m\u001b[0m\u001b[0m\n\u001b[1;32m    581\u001b[0m             response = self.parent.error(\n\u001b[0;32m--> 582\u001b[0;31m                 'http', request, response, code, msg, hdrs)\n\u001b[0m\u001b[1;32m    583\u001b[0m \u001b[0;34m\u001b[0m\u001b[0m\n\u001b[1;32m    584\u001b[0m         \u001b[0;32mreturn\u001b[0m \u001b[0mresponse\u001b[0m\u001b[0;34m\u001b[0m\u001b[0m\n",
      "\u001b[0;32m/usr/local/lib/python3.5/urllib/request.py\u001b[0m in \u001b[0;36merror\u001b[0;34m(self, proto, *args)\u001b[0m\n\u001b[1;32m    508\u001b[0m         \u001b[0;32mif\u001b[0m \u001b[0mhttp_err\u001b[0m\u001b[0;34m:\u001b[0m\u001b[0;34m\u001b[0m\u001b[0m\n\u001b[1;32m    509\u001b[0m             \u001b[0margs\u001b[0m \u001b[0;34m=\u001b[0m \u001b[0;34m(\u001b[0m\u001b[0mdict\u001b[0m\u001b[0;34m,\u001b[0m \u001b[0;34m'default'\u001b[0m\u001b[0;34m,\u001b[0m \u001b[0;34m'http_error_default'\u001b[0m\u001b[0;34m)\u001b[0m \u001b[0;34m+\u001b[0m \u001b[0morig_args\u001b[0m\u001b[0;34m\u001b[0m\u001b[0m\n\u001b[0;32m--> 510\u001b[0;31m             \u001b[0;32mreturn\u001b[0m \u001b[0mself\u001b[0m\u001b[0;34m.\u001b[0m\u001b[0m_call_chain\u001b[0m\u001b[0;34m(\u001b[0m\u001b[0;34m*\u001b[0m\u001b[0margs\u001b[0m\u001b[0;34m)\u001b[0m\u001b[0;34m\u001b[0m\u001b[0m\n\u001b[0m\u001b[1;32m    511\u001b[0m \u001b[0;34m\u001b[0m\u001b[0m\n\u001b[1;32m    512\u001b[0m \u001b[0;31m# XXX probably also want an abstract factory that knows when it makes\u001b[0m\u001b[0;34m\u001b[0m\u001b[0;34m\u001b[0m\u001b[0m\n",
      "\u001b[0;32m/usr/local/lib/python3.5/urllib/request.py\u001b[0m in \u001b[0;36m_call_chain\u001b[0;34m(self, chain, kind, meth_name, *args)\u001b[0m\n\u001b[1;32m    442\u001b[0m         \u001b[0;32mfor\u001b[0m \u001b[0mhandler\u001b[0m \u001b[0;32min\u001b[0m \u001b[0mhandlers\u001b[0m\u001b[0;34m:\u001b[0m\u001b[0;34m\u001b[0m\u001b[0m\n\u001b[1;32m    443\u001b[0m             \u001b[0mfunc\u001b[0m \u001b[0;34m=\u001b[0m \u001b[0mgetattr\u001b[0m\u001b[0;34m(\u001b[0m\u001b[0mhandler\u001b[0m\u001b[0;34m,\u001b[0m \u001b[0mmeth_name\u001b[0m\u001b[0;34m)\u001b[0m\u001b[0;34m\u001b[0m\u001b[0m\n\u001b[0;32m--> 444\u001b[0;31m             \u001b[0mresult\u001b[0m \u001b[0;34m=\u001b[0m \u001b[0mfunc\u001b[0m\u001b[0;34m(\u001b[0m\u001b[0;34m*\u001b[0m\u001b[0margs\u001b[0m\u001b[0;34m)\u001b[0m\u001b[0;34m\u001b[0m\u001b[0m\n\u001b[0m\u001b[1;32m    445\u001b[0m             \u001b[0;32mif\u001b[0m \u001b[0mresult\u001b[0m \u001b[0;32mis\u001b[0m \u001b[0;32mnot\u001b[0m \u001b[0;32mNone\u001b[0m\u001b[0;34m:\u001b[0m\u001b[0;34m\u001b[0m\u001b[0m\n\u001b[1;32m    446\u001b[0m                 \u001b[0;32mreturn\u001b[0m \u001b[0mresult\u001b[0m\u001b[0;34m\u001b[0m\u001b[0m\n",
      "\u001b[0;32m/usr/local/lib/python3.5/urllib/request.py\u001b[0m in \u001b[0;36mhttp_error_default\u001b[0;34m(self, req, fp, code, msg, hdrs)\u001b[0m\n\u001b[1;32m    588\u001b[0m \u001b[0;32mclass\u001b[0m \u001b[0mHTTPDefaultErrorHandler\u001b[0m\u001b[0;34m(\u001b[0m\u001b[0mBaseHandler\u001b[0m\u001b[0;34m)\u001b[0m\u001b[0;34m:\u001b[0m\u001b[0;34m\u001b[0m\u001b[0m\n\u001b[1;32m    589\u001b[0m     \u001b[0;32mdef\u001b[0m \u001b[0mhttp_error_default\u001b[0m\u001b[0;34m(\u001b[0m\u001b[0mself\u001b[0m\u001b[0;34m,\u001b[0m \u001b[0mreq\u001b[0m\u001b[0;34m,\u001b[0m \u001b[0mfp\u001b[0m\u001b[0;34m,\u001b[0m \u001b[0mcode\u001b[0m\u001b[0;34m,\u001b[0m \u001b[0mmsg\u001b[0m\u001b[0;34m,\u001b[0m \u001b[0mhdrs\u001b[0m\u001b[0;34m)\u001b[0m\u001b[0;34m:\u001b[0m\u001b[0;34m\u001b[0m\u001b[0m\n\u001b[0;32m--> 590\u001b[0;31m         \u001b[0;32mraise\u001b[0m \u001b[0mHTTPError\u001b[0m\u001b[0;34m(\u001b[0m\u001b[0mreq\u001b[0m\u001b[0;34m.\u001b[0m\u001b[0mfull_url\u001b[0m\u001b[0;34m,\u001b[0m \u001b[0mcode\u001b[0m\u001b[0;34m,\u001b[0m \u001b[0mmsg\u001b[0m\u001b[0;34m,\u001b[0m \u001b[0mhdrs\u001b[0m\u001b[0;34m,\u001b[0m \u001b[0mfp\u001b[0m\u001b[0;34m)\u001b[0m\u001b[0;34m\u001b[0m\u001b[0m\n\u001b[0m\u001b[1;32m    591\u001b[0m \u001b[0;34m\u001b[0m\u001b[0m\n\u001b[1;32m    592\u001b[0m \u001b[0;32mclass\u001b[0m \u001b[0mHTTPRedirectHandler\u001b[0m\u001b[0;34m(\u001b[0m\u001b[0mBaseHandler\u001b[0m\u001b[0;34m)\u001b[0m\u001b[0;34m:\u001b[0m\u001b[0;34m\u001b[0m\u001b[0m\n",
      "\u001b[0;31mHTTPError\u001b[0m: HTTP Error 400: Bad Request"
     ]
    }
   ],
   "source": [
    "td_api = tdameritrade_api.TDAmeritradeAPI.create_api_from_account_file(filename=\"../private_data/information.json\")"
   ]
  },
  {
   "cell_type": "markdown",
   "metadata": {},
   "source": [
    "### Set constants"
   ]
  },
  {
   "cell_type": "code",
   "execution_count": 13,
   "metadata": {},
   "outputs": [],
   "source": [
    "with open(\"../private_data/information.json\") as file_obj:\n",
    "    information = json.load(file_obj)\n",
    "\n",
    "ACCOUNT_IRA = information[\"IB_IRA\"]\n",
    "ACCOUNT_IND = information[\"IB_IND\"]"
   ]
  },
  {
   "cell_type": "code",
   "execution_count": 14,
   "metadata": {},
   "outputs": [],
   "source": [
    "DATA = \"/home/brent/.jupyter/data/data.hdf\""
   ]
  },
  {
   "cell_type": "markdown",
   "metadata": {},
   "source": [
    "### Get saved data"
   ]
  },
  {
   "cell_type": "code",
   "execution_count": 15,
   "metadata": {},
   "outputs": [],
   "source": [
    "with pd.HDFStore(DATA, mode=\"r\") as hdf_store:\n",
    "    bars = hdf_store[\"bars\"]\n",
    "    fundamentals = hdf_store[\"fundamentals\"]\n",
    "    quotes = hdf_store[\"quotes\"]\n",
    "    positions = hdf_store[\"positions\"]\n",
    "    universe = bars.columns.get_level_values(0).unique()"
   ]
  },
  {
   "cell_type": "markdown",
   "metadata": {},
   "source": [
    "### Separate data into logical variables"
   ]
  },
  {
   "cell_type": "code",
   "execution_count": 16,
   "metadata": {},
   "outputs": [],
   "source": [
    "indices = [\"SPY\", \"QQQ\", \"DIA\", \"IWM\"]\n",
    "snp = list(set(bars.columns.get_level_values(0).unique()) - set(indices))"
   ]
  },
  {
   "cell_type": "code",
   "execution_count": 17,
   "metadata": {},
   "outputs": [],
   "source": [
    "indices = bars[indices]\n",
    "snp = bars[snp]"
   ]
  },
  {
   "cell_type": "markdown",
   "metadata": {},
   "source": [
    "### Get positions"
   ]
  },
  {
   "cell_type": "code",
   "execution_count": 18,
   "metadata": {},
   "outputs": [],
   "source": [
    "positions = ib_api.get_positions()\n",
    "positions['account'] = positions.index\n",
    "positions = positions.set_index('symbol')\n",
    "with pd.HDFStore(DATA, mode=\"a\") as hdf_store:\n",
    "    hdf_store.put(\"positions\", positions)"
   ]
  },
  {
   "cell_type": "markdown",
   "metadata": {},
   "source": [
    "### Get price history"
   ]
  },
  {
   "cell_type": "markdown",
   "metadata": {},
   "source": [
    "#### Get daily history"
   ]
  },
  {
   "cell_type": "code",
   "execution_count": 23,
   "metadata": {},
   "outputs": [],
   "source": [
    "start_date = datetime(2019, 8, 24)\n",
    "end_date = datetime(2019, 8, 29)"
   ]
  },
  {
   "cell_type": "code",
   "execution_count": 24,
   "metadata": {},
   "outputs": [],
   "source": [
    "temp = ib_api.get_price_history(universe[0], start_date=start_date, end_date=end_date, bar_size=\"1 day\", rth=True)"
   ]
  },
  {
   "cell_type": "code",
   "execution_count": 27,
   "metadata": {},
   "outputs": [
    {
     "name": "stderr",
     "output_type": "stream",
     "text": [
      "ERROR 1717 399 Order Message:\n",
      "BUY 6 ROKU NASDAQ.NMS\n",
      "Warning: your order will not be placed at the exchange until 2019-08-29 04:00:00 US/Eastern\n",
      "ERROR 1718 399 Order Message:\n",
      "SELL 6 ROKU NASDAQ.NMS\n",
      "Warning: your order will not be placed at the exchange until 2019-08-29 09:30:00 US/Eastern\n",
      "ERROR 1719 399 Order Message:\n",
      "SELL 6 ROKU NASDAQ.NMS\n",
      "Warning: your order will not be placed at the exchange until 2019-08-29 09:30:00 US/Eastern\n"
     ]
    },
    {
     "name": "stdout",
     "output_type": "stream",
     "text": [
      "1717\n",
      "1718\n",
      "1719\n"
     ]
    },
    {
     "name": "stderr",
     "output_type": "stream",
     "text": [
      "ERROR 1718 202 Order Canceled - reason:\n",
      "ERROR 1719 202 Order Canceled - reason:\n"
     ]
    },
    {
     "name": "stdout",
     "output_type": "stream",
     "text": [
      "1718\n",
      "1719\n"
     ]
    },
    {
     "name": "stderr",
     "output_type": "stream",
     "text": [
      "ERROR 1717 202 Order Canceled - reason:\n"
     ]
    },
    {
     "name": "stdout",
     "output_type": "stream",
     "text": [
      "1717\n"
     ]
    }
   ],
   "source": [
    "symbols = sorted(list(set(universe) - set(temp.dropna(axis=1).columns.get_level_values(0).unique())))\n",
    "for symbol in symbols:\n",
    "    try:\n",
    "        temp = temp.join(ib_api.get_price_history(symbol, start_date=start_date, end_date=end_date))\n",
    "        sleep(0.4)\n",
    "    except:\n",
    "        print(symbol)\n",
    "        pass\n",
    "dropped = set(universe) - set(temp.columns.get_level_values(0))\n",
    "if len(dropped) != 0:\n",
    "    print(dropped)"
   ]
  },
  {
   "cell_type": "code",
   "execution_count": 32,
   "metadata": {},
   "outputs": [],
   "source": [
    "#bars = bars.drop(list(dropped), axis=1)\n",
    "bars = bars.append(temp)"
   ]
  },
  {
   "cell_type": "code",
   "execution_count": 33,
   "metadata": {},
   "outputs": [],
   "source": [
    "with pd.HDFStore(DATA, mode=\"a\") as hdf_store:\n",
    "    hdf_store.put(\"daily_bars\", bars)"
   ]
  },
  {
   "cell_type": "markdown",
   "metadata": {},
   "source": [
    "#### Get hour data"
   ]
  },
  {
   "cell_type": "code",
   "execution_count": 100,
   "metadata": {},
   "outputs": [],
   "source": [
    "end_date = datetime.today()\n",
    "end_date = datetime(end_date.year, end_date.month, end_date.day, 4, 0, 0)\n",
    "start_date = end_date - timedelta(days=5)\n",
    "symbols = \"QQQ, VNQ, XLF, XLV, XLY, XLP, GDX, XLU, XLE, XLI\".split(\", \")\n",
    "data = ib_api.get_price_history(symbols, start_date=start_date, end_date=end_date, bar_size=\"30 mins\", rth=False)"
   ]
  },
  {
   "cell_type": "code",
   "execution_count": 98,
   "metadata": {},
   "outputs": [],
   "source": [
    "with pd.HDFStore(DATA, mode=\"a\") as hdf_store:\n",
    "    hdf_store.put(\"hourly_bars\", data)"
   ]
  },
  {
   "cell_type": "markdown",
   "metadata": {},
   "source": [
    "#### Get minute data"
   ]
  },
  {
   "cell_type": "code",
   "execution_count": 5,
   "metadata": {},
   "outputs": [
    {
     "name": "stdout",
     "output_type": "stream",
     "text": [
      "> /home/brent/.jupyter/lib/interactivebrokers/ib_api.py(594)get_price_history()\n",
      "-> duration = end_date - start_date\n",
      "(Pdb) c\n"
     ]
    }
   ],
   "source": [
    "end_date = datetime(2019, 8, 1)\n",
    "end_date = datetime(end_date.year, end_date.month, end_date.day, 4, 0, 0)\n",
    "start_date = end_date - timedelta(days=1)\n",
    "symbols = \"QQQ, VNQ, XLF, XLV, XLY, XLP, GDX, XLU, XLE, XLI\".split(\", \")\n",
    "data = ib_api.get_price_history(symbols, start_date=start_date, end_date=end_date, bar_size=\"1 min\", rth=False)"
   ]
  },
  {
   "cell_type": "code",
   "execution_count": 11,
   "metadata": {},
   "outputs": [
    {
     "name": "stderr",
     "output_type": "stream",
     "text": [
      "ERROR -1 1100 Connectivity between IB and Trader Workstation has been lost.\n"
     ]
    },
    {
     "name": "stdout",
     "output_type": "stream",
     "text": [
      "-1\n"
     ]
    },
    {
     "name": "stderr",
     "output_type": "stream",
     "text": [
      "ERROR -1 2103 Market data farm connection is broken:usfarm\n",
      "ERROR -1 2103 Market data farm connection is broken:secdefnj\n"
     ]
    },
    {
     "name": "stdout",
     "output_type": "stream",
     "text": [
      "-1\n",
      "-1\n"
     ]
    },
    {
     "name": "stderr",
     "output_type": "stream",
     "text": [
      "ERROR -1 1102 Connectivity between IB and Trader Workstation has been restored - data maintained.\n",
      "ERROR -1 2104 Market data farm connection is OK:secdefnj\n"
     ]
    },
    {
     "name": "stdout",
     "output_type": "stream",
     "text": [
      "-1\n",
      "-1\n"
     ]
    },
    {
     "name": "stderr",
     "output_type": "stream",
     "text": [
      "ERROR -1 2104 Market data farm connection is OK:usfarm\n"
     ]
    },
    {
     "name": "stdout",
     "output_type": "stream",
     "text": [
      "-1\n"
     ]
    },
    {
     "name": "stderr",
     "output_type": "stream",
     "text": [
      "ERROR -1 2105 HMDS data farm connection is broken:ushmds\n",
      "ERROR -1 2103 Market data farm connection is broken:usfarm.nj\n",
      "ERROR -1 2105 HMDS data farm connection is broken:fundfarm\n"
     ]
    },
    {
     "name": "stdout",
     "output_type": "stream",
     "text": [
      "-1\n",
      "-1\n",
      "-1\n"
     ]
    },
    {
     "name": "stderr",
     "output_type": "stream",
     "text": [
      "ERROR -1 2106 HMDS data farm connection is OK:ushmds\n",
      "ERROR -1 2106 HMDS data farm connection is OK:fundfarm\n"
     ]
    },
    {
     "name": "stdout",
     "output_type": "stream",
     "text": [
      "-1\n",
      "-1\n"
     ]
    },
    {
     "name": "stderr",
     "output_type": "stream",
     "text": [
      "ERROR -1 2103 Market data farm connection is broken:usfuture.nj\n"
     ]
    },
    {
     "name": "stdout",
     "output_type": "stream",
     "text": [
      "-1\n"
     ]
    },
    {
     "name": "stderr",
     "output_type": "stream",
     "text": [
      "ERROR -1 2104 Market data farm connection is OK:usfarm.nj\n"
     ]
    },
    {
     "name": "stdout",
     "output_type": "stream",
     "text": [
      "-1\n"
     ]
    },
    {
     "name": "stderr",
     "output_type": "stream",
     "text": [
      "ERROR -1 2104 Market data farm connection is OK:usfuture.nj\n"
     ]
    },
    {
     "name": "stdout",
     "output_type": "stream",
     "text": [
      "-1\n"
     ]
    },
    {
     "name": "stderr",
     "output_type": "stream",
     "text": [
      "ERROR -1 2105 HMDS data farm connection is broken:ushmds.nj\n"
     ]
    },
    {
     "name": "stdout",
     "output_type": "stream",
     "text": [
      "-1\n"
     ]
    },
    {
     "name": "stderr",
     "output_type": "stream",
     "text": [
      "ERROR -1 2106 HMDS data farm connection is OK:ushmds.nj\n"
     ]
    },
    {
     "name": "stdout",
     "output_type": "stream",
     "text": [
      "-1\n"
     ]
    },
    {
     "name": "stderr",
     "output_type": "stream",
     "text": [
      "ERROR -1 2105 HMDS data farm connection is broken:euhmds\n"
     ]
    },
    {
     "name": "stdout",
     "output_type": "stream",
     "text": [
      "-1\n"
     ]
    },
    {
     "name": "stderr",
     "output_type": "stream",
     "text": [
      "ERROR -1 2106 HMDS data farm connection is OK:euhmds\n"
     ]
    },
    {
     "name": "stdout",
     "output_type": "stream",
     "text": [
      "-1\n"
     ]
    }
   ],
   "source": [
    "with pd.HDFStore(DATA, mode=\"a\") as hdf_store:\n",
    "    hdf_store.put(\"minute_bars\", data)"
   ]
  },
  {
   "cell_type": "markdown",
   "metadata": {},
   "source": [
    "### Get fundamentals"
   ]
  },
  {
   "cell_type": "code",
   "execution_count": 50,
   "metadata": {},
   "outputs": [
    {
     "name": "stderr",
     "output_type": "stream",
     "text": [
      "INFO:tdameritrade.tdameritrade_api:URL: https://api.tdameritrade.com/v1/instruments?symbol=JCI%2CEQIX%2CCMI%2CSYF%2CEQR%2CPAYX%2CVRSN%2CTIF%2CETR%2CXRX&projection=fundamental\n",
      "INFO:tdameritrade.tdameritrade_api:URL: https://api.tdameritrade.com/v1/instruments?symbol=MSFT%2CLYB%2CTRIP%2CYUM%2CFIS%2CDGX%2CABC%2CRF%2CLRCX%2CINFO&projection=fundamental\n",
      "INFO:tdameritrade.tdameritrade_api:URL: https://api.tdameritrade.com/v1/instruments?symbol=SCHW%2CFLT%2CFTV%2CKLAC%2CHPQ%2CZBH%2CLKQ%2CEXR%2CMKC%2CLLL&projection=fundamental\n",
      "INFO:tdameritrade.tdameritrade_api:URL: https://api.tdameritrade.com/v1/instruments?symbol=LB%2CBWA%2CRCL%2CWYNN%2CIR%2CJPM%2CMRO%2CGD%2CEW%2CAAPL&projection=fundamental\n",
      "INFO:tdameritrade.tdameritrade_api:URL: https://api.tdameritrade.com/v1/instruments?symbol=ADS%2CUHS%2CNSC%2CTJX%2CCTXS%2CPRU%2CD%2CDUK%2CDIS%2CDHR&projection=fundamental\n",
      "INFO:tdameritrade.tdameritrade_api:URL: https://api.tdameritrade.com/v1/instruments?symbol=KEY%2CLEG%2CAOS%2CC%2CNRG%2CADI%2CSYY%2CISRG%2CSLB%2CGOOG&projection=fundamental\n",
      "INFO:tdameritrade.tdameritrade_api:URL: https://api.tdameritrade.com/v1/instruments?symbol=HBI%2CTMO%2CDLTR%2CCMA%2CTRV%2CTEL%2CPYPL%2CSYK%2CORCL%2CWM&projection=fundamental\n",
      "INFO:tdameritrade.tdameritrade_api:URL: https://api.tdameritrade.com/v1/instruments?symbol=FAST%2CFANG%2CHRB%2CKO%2CUNH%2CHON%2CFLR%2CTSS%2CREGN%2CHRL&projection=fundamental\n",
      "INFO:tdameritrade.tdameritrade_api:URL: https://api.tdameritrade.com/v1/instruments?symbol=WEC%2CAPD%2CMDLZ%2CXLNX%2CMA%2CVRTX%2CETFC%2CNWS%2CITW%2CDRE&projection=fundamental\n",
      "INFO:tdameritrade.tdameritrade_api:URL: https://api.tdameritrade.com/v1/instruments?symbol=MOS%2CRJF%2CSBUX%2CUAA%2CAGN%2CCOTY%2CAMZN%2CEOG%2CMLM%2CIBM&projection=fundamental\n",
      "INFO:tdameritrade.tdameritrade_api:URL: https://api.tdameritrade.com/v1/instruments?symbol=PGR%2CTMK%2CFLIR%2CREG%2CCHD%2CCVX%2CPXD%2CPM%2CKMI%2CSO&projection=fundamental\n",
      "INFO:tdameritrade.tdameritrade_api:URL: https://api.tdameritrade.com/v1/instruments?symbol=APA%2CEL%2CHSY%2CGOOGL%2CNOC%2CIDXX%2CBLL%2CTDG%2CPPL%2CMCD&projection=fundamental\n",
      "INFO:tdameritrade.tdameritrade_api:URL: https://api.tdameritrade.com/v1/instruments?symbol=CBS%2CINTU%2CAMGN%2CDOV%2CORLY%2CHCA%2CCNP%2CKMX%2CZTS%2CFE&projection=fundamental\n",
      "INFO:tdameritrade.tdameritrade_api:URL: https://api.tdameritrade.com/v1/instruments?symbol=APH%2CADSK%2CGPS%2CRHT%2CPSX%2CHBAN%2CMS%2CNKTR%2CUPS%2CHP&projection=fundamental\n",
      "INFO:tdameritrade.tdameritrade_api:URL: https://api.tdameritrade.com/v1/instruments?symbol=FRT%2CAMP%2CBR%2CWLTW%2CILMN%2CROST%2CNVDA%2CWMB%2CROL%2CFBHS&projection=fundamental\n",
      "INFO:tdameritrade.tdameritrade_api:URL: https://api.tdameritrade.com/v1/instruments?symbol=SPGI%2CHFC%2CNWL%2CGM%2CROK%2CUNM%2CXEL%2CCAG%2CICE%2CTPR&projection=fundamental\n",
      "INFO:tdameritrade.tdameritrade_api:URL: https://api.tdameritrade.com/v1/instruments?symbol=MYL%2CCOP%2CDISCK%2CIPGP%2CPNC%2CADM%2CHCP%2CTWTR%2CAXP%2CCF&projection=fundamental\n",
      "INFO:tdameritrade.tdameritrade_api:URL: https://api.tdameritrade.com/v1/instruments?symbol=JNJ%2CSWKS%2CAIV%2CSTX%2CAPC%2CULTA%2CBAX%2CSRE%2CEA%2CBLK&projection=fundamental\n",
      "INFO:tdameritrade.tdameritrade_api:URL: https://api.tdameritrade.com/v1/instruments?symbol=UAL%2CQRVO%2CSNPS%2CCMS%2CCPRI%2CLOW%2CLNC%2CBAC%2CMAT%2CDHI&projection=fundamental\n",
      "INFO:tdameritrade.tdameritrade_api:URL: https://api.tdameritrade.com/v1/instruments?symbol=JEC%2CDVA%2CATVI%2CCBRE%2CHLT%2CAZO%2CNEM%2CPSA%2CBIIB%2CL&projection=fundamental\n",
      "INFO:tdameritrade.tdameritrade_api:URL: https://api.tdameritrade.com/v1/instruments?symbol=FTNT%2CGLW%2CMU%2CPCAR%2CABBV%2CIT%2CEMR%2CCVS%2CGT%2CCERN&projection=fundamental\n",
      "INFO:tdameritrade.tdameritrade_api:URL: https://api.tdameritrade.com/v1/instruments?symbol=BHF%2CEIX%2CHIG%2CFB%2CALB%2CAVGO%2CDISCA%2CRL%2CSTI%2CRTN&projection=fundamental\n",
      "INFO:tdameritrade.tdameritrade_api:URL: https://api.tdameritrade.com/v1/instruments?symbol=VZ%2CXOM%2CLNT%2CMSCI%2CVNO%2CWRK%2CAME%2CNFLX%2CCCL%2COMC&projection=fundamental\n",
      "INFO:tdameritrade.tdameritrade_api:URL: https://api.tdameritrade.com/v1/instruments?symbol=CAT%2CBEN%2CIVZ%2CEXC%2CKHC%2CTSCO%2CUTX%2CMAC%2CFCX%2CMET&projection=fundamental\n",
      "INFO:tdameritrade.tdameritrade_api:URL: https://api.tdameritrade.com/v1/instruments?symbol=AAL%2CCHTR%2CKEYS%2CACN%2CAVB%2CSBAC%2CHPE%2CAAP%2CEFX%2CSHW&projection=fundamental\n",
      "INFO:tdameritrade.tdameritrade_api:URL: https://api.tdameritrade.com/v1/instruments?symbol=CL%2CEBAY%2CAPTV%2CVRSK%2CPWR%2CTGT%2CWU%2CNI%2CBK%2CHAL&projection=fundamental\n",
      "INFO:tdameritrade.tdameritrade_api:URL: https://api.tdameritrade.com/v1/instruments?symbol=CFG%2CTTWO%2CCE%2CED%2CCOO%2CFRC%2CLLY%2CESS%2CFLS%2CVFC&projection=fundamental\n",
      "INFO:tdameritrade.tdameritrade_api:URL: https://api.tdameritrade.com/v1/instruments?symbol=CTSH%2CAVY%2CTSN%2CPEG%2CPG%2CAEP%2COXY%2CARNC%2CFITB%2CPEP&projection=fundamental\n",
      "INFO:tdameritrade.tdameritrade_api:URL: https://api.tdameritrade.com/v1/instruments?symbol=CELG%2CIRM%2CJBHT%2CHOLX%2CALL%2CWMT%2CO%2CWY%2CSIVB%2CCDNS&projection=fundamental\n",
      "INFO:tdameritrade.tdameritrade_api:URL: https://api.tdameritrade.com/v1/instruments?symbol=MCO%2CURI%2CKMB%2CAMT%2CCRM%2CAJG%2CINCY%2CSYMC%2CMHK%2CALGN&projection=fundamental\n",
      "INFO:tdameritrade.tdameritrade_api:URL: https://api.tdameritrade.com/v1/instruments?symbol=CTAS%2CWDC%2CWHR%2CCOG%2CAON%2CDFS%2CBA%2CANET%2CMAR%2CLUV&projection=fundamental\n",
      "INFO:tdameritrade.tdameritrade_api:URL: https://api.tdameritrade.com/v1/instruments?symbol=DRI%2CPKG%2CABMD%2CCMCSA%2CBBT%2CIPG%2CPVH%2CMAA%2CCPB%2CDVN&projection=fundamental\n",
      "INFO:tdameritrade.tdameritrade_api:URL: https://api.tdameritrade.com/v1/instruments?symbol=UDR%2CGS%2CRSG%2CGWW%2CJNPR%2CJWN%2CVMC%2CK%2CZION%2CEXPE&projection=fundamental\n",
      "INFO:tdameritrade.tdameritrade_api:URL: https://api.tdameritrade.com/v1/instruments?symbol=WELL%2CVTR%2CROP%2CRMD%2CMO%2CMCHP%2CBXP%2CLEN%2CFFIV%2CAIG&projection=fundamental\n",
      "INFO:tdameritrade.tdameritrade_api:URL: https://api.tdameritrade.com/v1/instruments?symbol=CSCO%2CMDT%2CSPG%2CHII%2CPLD%2CGILD%2CPRGO%2CALLE%2COKE%2CSTT&projection=fundamental\n",
      "INFO:tdameritrade.tdameritrade_api:URL: https://api.tdameritrade.com/v1/instruments?symbol=CTL%2CDWDP%2CPNW%2CMCK%2CNTRS%2CCNC%2CDAL%2CBDX%2CPBCT%2CADBE&projection=fundamental\n",
      "INFO:tdameritrade.tdameritrade_api:URL: https://api.tdameritrade.com/v1/instruments?symbol=COST%2CAWK%2CAMD%2CDTE%2CFMC%2CSLG%2CF%2CMMC%2CPFE%2CBKNG&projection=fundamental\n",
      "INFO:tdameritrade.tdameritrade_api:URL: https://api.tdameritrade.com/v1/instruments?symbol=USB%2CDE%2CRE%2CUNP%2CLH%2CIFF%2CUA%2CCHRW%2CANTM%2CGE&projection=fundamental\n",
      "INFO:tdameritrade.tdameritrade_api:URL: https://api.tdameritrade.com/v1/instruments?symbol=HST%2CABT%2CPNR%2CDISH%2CCB%2CMRK%2CTROW%2CAKAM%2CKSS%2CNBL&projection=fundamental\n",
      "INFO:tdameritrade.tdameritrade_api:URL: https://api.tdameritrade.com/v1/instruments?symbol=ANSS%2CKR%2CGRMN%2CSNA%2CVIAB%2CNWSA%2CWFC%2CA%2CKIM%2CNTAP&projection=fundamental\n",
      "INFO:tdameritrade.tdameritrade_api:URL: https://api.tdameritrade.com/v1/instruments?symbol=IQV%2CNLSN%2CTXT%2CCME%2CFOXA%2CGPN%2CMSI%2CSWK%2CCXO%2CHUM&projection=fundamental\n",
      "INFO:tdameritrade.tdameritrade_api:URL: https://api.tdameritrade.com/v1/instruments?symbol=HES%2CAFL%2CFTI%2CAMG%2CIP%2CALK%2CWAT%2CTAP%2CEMN%2CPH&projection=fundamental\n",
      "INFO:tdameritrade.tdameritrade_api:URL: https://api.tdameritrade.com/v1/instruments?symbol=ES%2CHOG%2CPCG%2CMAS%2CCAH%2CKSU%2CCLX%2CBMY%2CXEC%2CAES&projection=fundamental\n",
      "INFO:tdameritrade.tdameritrade_api:URL: https://api.tdameritrade.com/v1/instruments?symbol=CMG%2CJKHY%2CPFG%2CETN%2CCCI%2CECL%2CMTB%2CNKE%2CMTD%2CFL&projection=fundamental\n",
      "INFO:tdameritrade.tdameritrade_api:URL: https://api.tdameritrade.com/v1/instruments?symbol=WCG%2CNEE%2CAEE%2CLMT%2CV%2CHAS%2CEXPD%2CPHM%2CARE%2CHSIC&projection=fundamental\n",
      "INFO:tdameritrade.tdameritrade_api:URL: https://api.tdameritrade.com/v1/instruments?symbol=DLR%2CCOF%2CINTC%2CVLO%2CMMM%2CMNST%2CWBA%2CBSX%2CHD%2CM&projection=fundamental\n",
      "INFO:tdameritrade.tdameritrade_api:URL: https://api.tdameritrade.com/v1/instruments?symbol=VAR%2CPKI%2CTXN%2CNCLH%2CGPC%2CFISV%2CCPRT%2CALXN%2CDG%2CCI&projection=fundamental\n",
      "INFO:tdameritrade.tdameritrade_api:URL: https://api.tdameritrade.com/v1/instruments?symbol=BBY%2CMGM%2CXYL%2CRHI%2CT%2CPPG%2CAMAT%2CNUE%2CGIS%2CHRS&projection=fundamental\n"
     ]
    },
    {
     "name": "stderr",
     "output_type": "stream",
     "text": [
      "INFO:tdameritrade.tdameritrade_api:URL: https://api.tdameritrade.com/v1/instruments?symbol=STZ%2CNDAQ%2CCSX%2CADP%2CBHGE%2CFDX%2CDXC%2CSJM%2CNOV%2CCINF&projection=fundamental\n",
      "INFO:tdameritrade.tdameritrade_api:URL: https://api.tdameritrade.com/v1/instruments?symbol=SEE%2CAIZ%2CLW%2CQCOM%2CXRAY%2CMPC%2CFOX%2CMXIM&projection=fundamental\n"
     ]
    }
   ],
   "source": [
    "tickers = snp.columns.get_level_values(0).unique()\n",
    "temp = td_api.get_fundamental(tickers[:10])\n",
    "for i in range(10, 490, 10):\n",
    "    temp = temp.append(td_api.get_fundamental(tickers[i: i+10]))\n",
    "    sleep(10)\n",
    "fundamentals = temp.append(td_api.get_fundamental(tickers[490:]))"
   ]
  },
  {
   "cell_type": "code",
   "execution_count": 53,
   "metadata": {},
   "outputs": [],
   "source": [
    "cols = \"beta, bookValuePerShare, currentRatio, divGrowthRate3Year, dividendAmount, dividendPayAmount, dividendYield, epsChange, \"+\\\n",
    "       \"epsChangePercentTTM, epsChangeYear, epsTTM, high52, low52, pbRatio, pcfRatio, peRatio, pegRatio, prRatio, quickRatio\"\n",
    "cols = cols.split(\", \")\n",
    "for col in cols:\n",
    "    fundamentals[col] = fundamentals[col].astype(float)\n",
    "\n",
    "cols = \"grossMarginMRQ, grossMarginTTM, interestCoverage, ltDebtToEquity, marketCap, marketCapFloat, netProfitMarginMRQ, netProfitMarginTTM, \"+\\\n",
    "       \"operatingMarginMRQ, operatingMarginTTM, returnOnAssets, returnOnEquity, returnOnInvestment, revChangeIn, revChangeTTM, revChangeYear, \"+\\\n",
    "       \"sharesOutstanding, shortIntDayToCover, shortIntToFloat, totalDebtToCapital, totalDebtToEquity, vol10DayAvg, vol1DayAvg, vol3MonthAvg\"\n",
    "cols = cols.split(\", \")\n",
    "for col in cols:\n",
    "    fundamentals[col] = fundamentals[col].astype(int)"
   ]
  },
  {
   "cell_type": "code",
   "execution_count": 55,
   "metadata": {},
   "outputs": [
    {
     "name": "stderr",
     "output_type": "stream",
     "text": [
      "/home/brent/miniconda3/lib/python3.5/site-packages/IPython/core/interactiveshell.py:2903: PerformanceWarning: \n",
      "your performance may suffer as PyTables will pickle object types that it cannot\n",
      "map directly to c-types [inferred_type->mixed,key->block2_values] [items->['dividendDate', 'dividendPayDate', 'symbol']]\n",
      "\n",
      "  if self.run_code(code, result):\n"
     ]
    }
   ],
   "source": [
    "with pd.HDFStore(DATA, mode=\"a\") as hdf_store:\n",
    "    hdf_store.put(\"fundamentals\", fundamentals)"
   ]
  },
  {
   "cell_type": "markdown",
   "metadata": {},
   "source": [
    "### RPC for Quotes"
   ]
  },
  {
   "cell_type": "code",
   "execution_count": 10,
   "metadata": {},
   "outputs": [],
   "source": [
    "#temp = td_api.get_quotes(universe[0])\n",
    "temp = ib_api.get_quotes(universe[0])"
   ]
  },
  {
   "cell_type": "code",
   "execution_count": 16,
   "metadata": {},
   "outputs": [],
   "source": [
    "symbols = sorted(list(set(universe) - set(temp.index)))\n",
    "for symbol in symbols:\n",
    "    #temp = temp.append(td_api.get_quotes(symbol))\n",
    "    temp = temp.append(ib_api.get_quotes(symbol))"
   ]
  },
  {
   "cell_type": "code",
   "execution_count": 17,
   "metadata": {},
   "outputs": [],
   "source": [
    "quotes = quotes.append(temp)"
   ]
  },
  {
   "cell_type": "code",
   "execution_count": 18,
   "metadata": {},
   "outputs": [],
   "source": [
    "with pd.HDFStore(\"data.hdf\", mode=\"a\") as hdf_store:\n",
    "    hdf_store.put(\"quotes\", quotes)"
   ]
  }
 ],
 "metadata": {
  "kernelspec": {
   "display_name": "Python 3",
   "language": "python",
   "name": "python3"
  },
  "language_info": {
   "codemirror_mode": {
    "name": "ipython",
    "version": 3
   },
   "file_extension": ".py",
   "mimetype": "text/x-python",
   "name": "python",
   "nbconvert_exporter": "python",
   "pygments_lexer": "ipython3",
   "version": "3.5.7"
  }
 },
 "nbformat": 4,
 "nbformat_minor": 2
}
